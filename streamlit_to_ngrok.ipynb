{
  "nbformat": 4,
  "nbformat_minor": 0,
  "metadata": {
    "colab": {
      "name": "streamlit_to_ngrok.ipynb",
      "provenance": [],
      "collapsed_sections": [],
      "authorship_tag": "ABX9TyOkEUJk5LKgx/bCSW80sXXE",
      "include_colab_link": true
    },
    "kernelspec": {
      "name": "python3",
      "display_name": "Python 3"
    }
  },
  "cells": [
    {
      "cell_type": "markdown",
      "metadata": {
        "id": "view-in-github",
        "colab_type": "text"
      },
      "source": [
        "<a href=\"https://colab.research.google.com/github/ajaykumar2409/Streamlit_to_ngrok/blob/master/streamlit_to_ngrok.ipynb\" target=\"_parent\"><img src=\"https://colab.research.google.com/assets/colab-badge.svg\" alt=\"Open In Colab\"/></a>"
      ]
    },
    {
      "cell_type": "code",
      "metadata": {
        "id": "iyH34HilyiqR",
        "colab_type": "code",
        "colab": {}
      },
      "source": [
        "import streamlit"
      ],
      "execution_count": 1,
      "outputs": []
    },
    {
      "cell_type": "code",
      "metadata": {
        "id": "xfNqmJzS1160",
        "colab_type": "code",
        "colab": {
          "base_uri": "https://localhost:8080/",
          "height": 1000
        },
        "outputId": "a5e67a3f-82a7-4a9a-8f85-7bcd606b3f02"
      },
      "source": [
        "!streamlit hello"
      ],
      "execution_count": 9,
      "outputs": [
        {
          "output_type": "stream",
          "text": [
            "\u001b[0m\n",
            "\u001b[34m\u001b[1m  Welcome to Streamlit. Check out our demo in your browser.\u001b[0m\n",
            "\u001b[0m\n",
            "\u001b[34m  Network URL: \u001b[0m\u001b[1mhttp://172.28.0.2:8501\u001b[0m\n",
            "\u001b[34m  External URL: \u001b[0m\u001b[1mhttp://34.69.231.165:8501\u001b[0m\n",
            "\u001b[0m\n",
            "  Ready to create your own Python apps super quickly?\u001b[0m\n",
            "  Just head over to \u001b[0m\u001b[1mhttps://docs.streamlit.io\u001b[0m\n",
            "\u001b[0m\n",
            "  May you create awesome apps!\u001b[0m\n",
            "\u001b[0m\n"
          ],
          "name": "stdout"
        },
        {
          "output_type": "stream",
          "text": [
            "t=2020-07-08T14:36:52+0000 lvl=info msg=\"join connections\" obj=join id=b1404644a5b8 l=127.0.0.1:8501 r=[2409:4055:396:9451:d905:67f1:2543:7389]:52643\n",
            "\n",
            "t=2020-07-08T14:36:53+0000 lvl=info msg=\"join connections\" obj=join id=ecf3eabe292b l=127.0.0.1:8501 r=[2409:4055:396:9451:d905:67f1:2543:7389]:52652\n",
            "\n",
            "t=2020-07-08T14:36:54+0000 lvl=info msg=\"join connections\" obj=join id=dbb05711fcac l=127.0.0.1:8501 r=[2409:4055:396:9451:d905:67f1:2543:7389]:52654\n",
            "\n",
            "t=2020-07-08T14:36:54+0000 lvl=info msg=\"join connections\" obj=join id=98898707c15d l=127.0.0.1:8501 r=[2409:4055:396:9451:d905:67f1:2543:7389]:52655\n",
            "\n",
            "t=2020-07-08T14:37:11+0000 lvl=info msg=\"join connections\" obj=join id=e0819cb71859 l=127.0.0.1:8501 r=[2409:4055:396:9451:d905:67f1:2543:7389]:52662\n",
            "\n",
            "t=2020-07-08T14:37:13+0000 lvl=info msg=\"join connections\" obj=join id=57985aa3d7b9 l=127.0.0.1:8501 r=[2409:4055:396:9451:d905:67f1:2543:7389]:52664\n",
            "\n",
            "t=2020-07-08T14:37:15+0000 lvl=info msg=\"join connections\" obj=join id=fd03fe08c8aa l=127.0.0.1:8501 r=[2409:4055:396:9451:d905:67f1:2543:7389]:52667\n",
            "\n",
            "t=2020-07-08T14:37:19+0000 lvl=info msg=\"join connections\" obj=join id=153bbf9f175a l=127.0.0.1:8501 r=[2409:4055:396:9451:d905:67f1:2543:7389]:52675\n",
            "\n",
            "t=2020-07-08T14:38:18+0000 lvl=info msg=\"join connections\" obj=join id=8cb31d5b25cd l=127.0.0.1:8501 r=[2409:4055:396:9451:d905:67f1:2543:7389]:52743\n",
            "\n",
            "t=2020-07-08T14:38:18+0000 lvl=info msg=\"join connections\" obj=join id=0d6100d687dc l=127.0.0.1:8501 r=[2409:4055:396:9451:d905:67f1:2543:7389]:52745\n",
            "\n",
            "t=2020-07-08T14:38:19+0000 lvl=info msg=\"join connections\" obj=join id=3fabffca8583 l=127.0.0.1:8501 r=[2409:4055:396:9451:d905:67f1:2543:7389]:52746\n",
            "\n",
            "t=2020-07-08T14:38:19+0000 lvl=info msg=\"join connections\" obj=join id=a2fc2312d0e4 l=127.0.0.1:8501 r=[2409:4055:396:9451:d905:67f1:2543:7389]:52750\n",
            "\n",
            "t=2020-07-08T14:38:19+0000 lvl=info msg=\"join connections\" obj=join id=fe388d37d6d4 l=127.0.0.1:8501 r=[2409:4055:396:9451:d905:67f1:2543:7389]:52748\n",
            "\n",
            "t=2020-07-08T14:38:19+0000 lvl=info msg=\"join connections\" obj=join id=a9846499d5a5 l=127.0.0.1:8501 r=[2409:4055:396:9451:d905:67f1:2543:7389]:52751\n",
            "\n",
            "t=2020-07-08T14:38:19+0000 lvl=info msg=\"join connections\" obj=join id=df2b2d7ef366 l=127.0.0.1:8501 r=[2409:4055:396:9451:d905:67f1:2543:7389]:52754\n",
            "\n",
            "t=2020-07-08T14:38:23+0000 lvl=info msg=\"join connections\" obj=join id=76c6206268a7 l=127.0.0.1:8501 r=[2409:4055:396:9451:d905:67f1:2543:7389]:52757\n",
            "\n",
            "t=2020-07-08T14:38:25+0000 lvl=info msg=\"join connections\" obj=join id=b9b1ae40456f l=127.0.0.1:8501 r=[2409:4055:396:9451:d905:67f1:2543:7389]:52758\n",
            "\n",
            "t=2020-07-08T14:38:26+0000 lvl=info msg=\"join connections\" obj=join id=b516e06acc24 l=127.0.0.1:8501 r=[2409:4055:396:9451:d905:67f1:2543:7389]:52761\n",
            "\n",
            "t=2020-07-08T14:38:30+0000 lvl=info msg=\"join connections\" obj=join id=6582e4419d9a l=127.0.0.1:8501 r=[2409:4055:396:9451:d905:67f1:2543:7389]:52763\n",
            "\n",
            "t=2020-07-08T14:38:31+0000 lvl=info msg=\"join connections\" obj=join id=98d8b04c801e l=127.0.0.1:8501 r=[2409:4055:396:9451:d905:67f1:2543:7389]:52764\n",
            "\n",
            "t=2020-07-08T14:38:32+0000 lvl=info msg=\"join connections\" obj=join id=d62286304063 l=127.0.0.1:8501 r=[2409:4055:396:9451:d905:67f1:2543:7389]:52765\n",
            "\n",
            "t=2020-07-08T14:38:32+0000 lvl=info msg=\"join connections\" obj=join id=f4843c13471e l=127.0.0.1:8501 r=[2409:4055:396:9451:d905:67f1:2543:7389]:52766\n",
            "\n",
            "t=2020-07-08T14:40:19+0000 lvl=info msg=\"received stop request\" obj=app stopReq=\"{err:<nil> restart:false}\"\n",
            "\n",
            "t=2020-07-08T14:40:19+0000 lvl=info msg=\"session closing\" obj=tunnels.session err=nil\n",
            "\n"
          ],
          "name": "stderr"
        },
        {
          "output_type": "stream",
          "text": [
            "\u001b[34m  Stopping...\u001b[0m\n",
            "\u001b[34m  Stopping...\u001b[0m\n"
          ],
          "name": "stdout"
        }
      ]
    },
    {
      "cell_type": "code",
      "metadata": {
        "id": "mXldw7ef17Je",
        "colab_type": "code",
        "colab": {}
      },
      "source": [
        "!pip install pyngrok"
      ],
      "execution_count": null,
      "outputs": []
    },
    {
      "cell_type": "code",
      "metadata": {
        "id": "tGxWy1W52JrD",
        "colab_type": "code",
        "colab": {
          "base_uri": "https://localhost:8080/",
          "height": 34
        },
        "outputId": "3f4893f6-63ff-4cd9-8bfe-0483907ea0a6"
      },
      "source": [
        "!ngrok authtoken 1eP6x3Yj43NfWsxcbG9O9lnhrXQ_6xPsWJSUWgbLu8quaK3gh"
      ],
      "execution_count": 5,
      "outputs": [
        {
          "output_type": "stream",
          "text": [
            "Downloading ngrok ...\rDownloading ngrok: 0%\rDownloading ngrok: 1%\rDownloading ngrok: 2%\rDownloading ngrok: 3%\rDownloading ngrok: 4%\rDownloading ngrok: 5%\rDownloading ngrok: 6%\rDownloading ngrok: 7%\rDownloading ngrok: 8%\rDownloading ngrok: 9%\rDownloading ngrok: 10%\rDownloading ngrok: 11%\rDownloading ngrok: 12%\rDownloading ngrok: 13%\rDownloading ngrok: 14%\rDownloading ngrok: 15%\rDownloading ngrok: 16%\rDownloading ngrok: 17%\rDownloading ngrok: 18%\rDownloading ngrok: 19%\rDownloading ngrok: 20%\rDownloading ngrok: 21%\rDownloading ngrok: 22%\rDownloading ngrok: 23%\rDownloading ngrok: 24%\rDownloading ngrok: 25%\rDownloading ngrok: 26%\rDownloading ngrok: 27%\rDownloading ngrok: 28%\rDownloading ngrok: 29%\rDownloading ngrok: 30%\rDownloading ngrok: 31%\rDownloading ngrok: 32%\rDownloading ngrok: 33%\rDownloading ngrok: 34%\rDownloading ngrok: 35%\rDownloading ngrok: 36%\rDownloading ngrok: 37%\rDownloading ngrok: 38%\rDownloading ngrok: 39%\rDownloading ngrok: 40%\rDownloading ngrok: 41%\rDownloading ngrok: 42%\rDownloading ngrok: 43%\rDownloading ngrok: 44%\rDownloading ngrok: 45%\rDownloading ngrok: 46%\rDownloading ngrok: 47%\rDownloading ngrok: 48%\rDownloading ngrok: 49%\rDownloading ngrok: 50%\rDownloading ngrok: 51%\rDownloading ngrok: 52%\rDownloading ngrok: 53%\rDownloading ngrok: 54%\rDownloading ngrok: 55%\rDownloading ngrok: 56%\rDownloading ngrok: 57%\rDownloading ngrok: 58%\rDownloading ngrok: 59%\rDownloading ngrok: 60%\rDownloading ngrok: 61%\rDownloading ngrok: 62%\rDownloading ngrok: 63%\rDownloading ngrok: 64%\rDownloading ngrok: 65%\rDownloading ngrok: 66%\rDownloading ngrok: 67%\rDownloading ngrok: 68%\rDownloading ngrok: 69%\rDownloading ngrok: 70%\rDownloading ngrok: 71%\rDownloading ngrok: 72%\rDownloading ngrok: 73%\rDownloading ngrok: 74%\rDownloading ngrok: 75%\rDownloading ngrok: 76%\rDownloading ngrok: 77%\rDownloading ngrok: 78%\rDownloading ngrok: 79%\rDownloading ngrok: 80%\rDownloading ngrok: 81%\rDownloading ngrok: 82%\rDownloading ngrok: 83%\rDownloading ngrok: 84%\rDownloading ngrok: 85%\rDownloading ngrok: 86%\rDownloading ngrok: 87%\rDownloading ngrok: 88%\rDownloading ngrok: 89%\rDownloading ngrok: 90%\rDownloading ngrok: 91%\rDownloading ngrok: 92%\rDownloading ngrok: 93%\rDownloading ngrok: 94%\rDownloading ngrok: 95%\rDownloading ngrok: 96%\rDownloading ngrok: 97%\rDownloading ngrok: 98%\rDownloading ngrok: 99%\rDownloading ngrok: 100%\r                                                                                                    \rInstalling ngrok ... \r                                                                                                    \rAuthtoken saved to configuration file: /root/.ngrok2/ngrok.yml\n"
          ],
          "name": "stdout"
        }
      ]
    },
    {
      "cell_type": "code",
      "metadata": {
        "id": "AUUXZtDu2Txq",
        "colab_type": "code",
        "colab": {
          "base_uri": "https://localhost:8080/",
          "height": 547
        },
        "outputId": "b569399e-50e8-4b5e-831c-ce74192a9bc8"
      },
      "source": [
        "from pyngrok import ngrok\n",
        "# Open a HTTP tunnel on the default port 80\n",
        "public_url = ngrok.connect(port = '8501')"
      ],
      "execution_count": 7,
      "outputs": [
        {
          "output_type": "stream",
          "text": [
            "ngrok process starting: 570\n",
            "t=2020-07-08T14:35:50+0000 lvl=info msg=\"no configuration paths supplied\"\n",
            "\n",
            "t=2020-07-08T14:35:50+0000 lvl=info msg=\"using configuration at default config path\" path=/root/.ngrok2/ngrok.yml\n",
            "\n",
            "t=2020-07-08T14:35:50+0000 lvl=info msg=\"open config file\" path=/root/.ngrok2/ngrok.yml err=nil\n",
            "\n",
            "t=2020-07-08T14:35:50+0000 lvl=info msg=\"starting web service\" obj=web addr=127.0.0.1:4040\n",
            "\n",
            "t=2020-07-08T14:35:50+0000 lvl=info msg=\"tunnel session started\" obj=tunnels.session\n",
            "\n",
            "t=2020-07-08T14:35:50+0000 lvl=info msg=\"client session established\" obj=csess id=26fccafa70d3\n",
            "\n",
            "ngrok process has started: http://127.0.0.1:4040\n",
            "t=2020-07-08T14:35:50+0000 lvl=info msg=start pg=/api/tunnels id=174083dce9a289af\n",
            "\n",
            "t=2020-07-08T14:35:50+0000 lvl=info msg=end pg=/api/tunnels id=174083dce9a289af status=200 dur=423.335µs\n",
            "\n",
            "t=2020-07-08T14:35:50+0000 lvl=info msg=start pg=/api/tunnels id=2efe20e1f58692e4\n",
            "\n",
            "t=2020-07-08T14:35:50+0000 lvl=info msg=end pg=/api/tunnels id=2efe20e1f58692e4 status=200 dur=127.36µs\n",
            "\n",
            "t=2020-07-08T14:35:50+0000 lvl=info msg=start pg=/api/tunnels id=ad2296cb05d00a4e\n",
            "\n",
            "t=2020-07-08T14:35:51+0000 lvl=info msg=\"started tunnel\" obj=tunnels name=\"http-8501-ca4ba58f-bba4-4893-9227-93db90d393f4 (http)\" addr=http://localhost:8501 url=http://0294dbb702e2.ngrok.io\n",
            "\n",
            "t=2020-07-08T14:35:51+0000 lvl=info msg=\"started tunnel\" obj=tunnels name=http-8501-ca4ba58f-bba4-4893-9227-93db90d393f4 addr=http://localhost:8501 url=https://0294dbb702e2.ngrok.io\n",
            "\n",
            "t=2020-07-08T14:35:51+0000 lvl=info msg=end pg=/api/tunnels id=ad2296cb05d00a4e status=201 dur=84.65279ms\n",
            "\n"
          ],
          "name": "stderr"
        }
      ]
    },
    {
      "cell_type": "code",
      "metadata": {
        "id": "qpTCR-j-2uHY",
        "colab_type": "code",
        "colab": {
          "base_uri": "https://localhost:8080/",
          "height": 35
        },
        "outputId": "ca35c7c1-f476-482d-cbc4-5f70237958ed"
      },
      "source": [
        "public_url"
      ],
      "execution_count": 8,
      "outputs": [
        {
          "output_type": "execute_result",
          "data": {
            "application/vnd.google.colaboratory.intrinsic": {
              "type": "string"
            },
            "text/plain": [
              "'http://0294dbb702e2.ngrok.io'"
            ]
          },
          "metadata": {
            "tags": []
          },
          "execution_count": 8
        }
      ]
    }
  ]
}